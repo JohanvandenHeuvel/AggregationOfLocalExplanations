{
 "cells": [
  {
   "cell_type": "code",
   "execution_count": 1,
   "metadata": {
    "collapsed": true
   },
   "outputs": [],
   "source": [
    "import numpy as np\n",
    "import pandas as pd\n",
    "\n",
    "from sklearn.datasets import load_iris\n",
    "\n",
    "from sklearn.neural_network import BernoulliRBM\n",
    "from scipy.special import softmax\n",
    "from sklearn import linear_model, tree, neighbors"
   ]
  },
  {
   "cell_type": "code",
   "execution_count": 2,
   "outputs": [],
   "source": [
    "iris = load_iris(as_frame=True)"
   ],
   "metadata": {
    "collapsed": false,
    "pycharm": {
     "name": "#%%\n"
    }
   }
  },
  {
   "cell_type": "code",
   "execution_count": 3,
   "outputs": [],
   "source": [
    "X = iris.data[iris.target != 2]\n",
    "Y = iris.target[iris.target != 2]"
   ],
   "metadata": {
    "collapsed": false,
    "pycharm": {
     "name": "#%%\n"
    }
   }
  },
  {
   "cell_type": "code",
   "execution_count": 17,
   "outputs": [
    {
     "name": "stdout",
     "output_type": "stream",
     "text": [
      "fitting LogisticRegression()\n",
      "fitting DecisionTreeClassifier()\n",
      "fitting NearestCentroid()\n"
     ]
    }
   ],
   "source": [
    "models = [linear_model.LogisticRegression(),\n",
    "          tree.DecisionTreeClassifier(),\n",
    "          neighbors.NearestCentroid()]\n",
    "\n",
    "for m in models:\n",
    "    print('fitting ' + str(m))\n",
    "    m.fit(X[:-1], Y[:-1])"
   ],
   "metadata": {
    "collapsed": false,
    "pycharm": {
     "name": "#%%\n"
    }
   }
  },
  {
   "cell_type": "code",
   "execution_count": 59,
   "outputs": [],
   "source": [
    "rmb_input = pd.DataFrame(columns=[str(m) for m in models])\n",
    "for i, m in enumerate(models):\n",
    "    if i < 2:\n",
    "        pred = m.predict_proba(X[:-1])\n",
    "        pred = pred[:, 1]\n",
    "        rmb_input[str(m)] = pred\n",
    "    else:\n",
    "        pred = m.predict(X[:-1])\n",
    "        rmb_input[str(m)] = pred\n"
   ],
   "metadata": {
    "collapsed": false,
    "pycharm": {
     "name": "#%%\n"
    }
   }
  },
  {
   "cell_type": "code",
   "execution_count": 60,
   "outputs": [],
   "source": [
    "n = 1000\n",
    "# rmbs = [BernoulliRBM(n_components=4, n_iter=n), BernoulliRBM(n_components=2, n_iter=n), BernoulliRBM(n_components=1, n_iter=n)]\n",
    "rmbs = [BernoulliRBM(n_components=1, n_iter=n)]\n",
    "\n",
    "X_ = rmb_input\n",
    "for r in rmbs:\n",
    "    r.fit(X_)\n",
    "    X_ = r.transform(X_)\n",
    "\n",
    "X_ = 1 - X_"
   ],
   "metadata": {
    "collapsed": false,
    "pycharm": {
     "name": "#%%\n"
    }
   }
  },
  {
   "cell_type": "code",
   "execution_count": 6,
   "outputs": [],
   "source": [],
   "metadata": {
    "collapsed": false,
    "pycharm": {
     "name": "#%%\n"
    }
   }
  }
 ],
 "metadata": {
  "kernelspec": {
   "display_name": "Python 3",
   "language": "python",
   "name": "python3"
  },
  "language_info": {
   "codemirror_mode": {
    "name": "ipython",
    "version": 2
   },
   "file_extension": ".py",
   "mimetype": "text/x-python",
   "name": "python",
   "nbconvert_exporter": "python",
   "pygments_lexer": "ipython2",
   "version": "2.7.6"
  }
 },
 "nbformat": 4,
 "nbformat_minor": 0
}